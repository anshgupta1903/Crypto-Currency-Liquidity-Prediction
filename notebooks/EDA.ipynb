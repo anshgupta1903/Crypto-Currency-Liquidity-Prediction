{
 "cells": [
  {
   "cell_type": "markdown",
   "id": "987ce13e",
   "metadata": {},
   "source": [
    "# EDA on the Dataset for Cryptocurrency Lquidity Prediction"
   ]
  },
  {
   "cell_type": "markdown",
   "id": "5292883a",
   "metadata": {},
   "source": [
    "### 1. imports"
   ]
  },
  {
   "cell_type": "code",
   "execution_count": 1,
   "id": "bbe4d37b",
   "metadata": {},
   "outputs": [],
   "source": [
    "import pandas as pd\n",
    "import numpy as np\n",
    "import matplotlib.pyplot as plt\n",
    "import seaborn as sns\n",
    "\n",
    "import warnings\n",
    "warnings.filterwarnings('ignore')"
   ]
  },
  {
   "cell_type": "markdown",
   "id": "92306f69",
   "metadata": {},
   "source": [
    "### 2. Loading the datasets"
   ]
  },
  {
   "cell_type": "code",
   "execution_count": 8,
   "id": "a5eb5486",
   "metadata": {},
   "outputs": [
    {
     "data": {
      "text/html": [
       "<div>\n",
       "<style scoped>\n",
       "    .dataframe tbody tr th:only-of-type {\n",
       "        vertical-align: middle;\n",
       "    }\n",
       "\n",
       "    .dataframe tbody tr th {\n",
       "        vertical-align: top;\n",
       "    }\n",
       "\n",
       "    .dataframe thead th {\n",
       "        text-align: right;\n",
       "    }\n",
       "</style>\n",
       "<table border=\"1\" class=\"dataframe\">\n",
       "  <thead>\n",
       "    <tr style=\"text-align: right;\">\n",
       "      <th></th>\n",
       "      <th>coin</th>\n",
       "      <th>symbol</th>\n",
       "      <th>price</th>\n",
       "      <th>1h</th>\n",
       "      <th>24h</th>\n",
       "      <th>7d</th>\n",
       "      <th>24h_volume</th>\n",
       "      <th>mkt_cap</th>\n",
       "      <th>date</th>\n",
       "    </tr>\n",
       "  </thead>\n",
       "  <tbody>\n",
       "    <tr>\n",
       "      <th>0</th>\n",
       "      <td>Bitcoin</td>\n",
       "      <td>BTC</td>\n",
       "      <td>40859.460000</td>\n",
       "      <td>0.022</td>\n",
       "      <td>0.030</td>\n",
       "      <td>0.055</td>\n",
       "      <td>3.539076e+10</td>\n",
       "      <td>7.709915e+11</td>\n",
       "      <td>2022-03-16</td>\n",
       "    </tr>\n",
       "    <tr>\n",
       "      <th>1</th>\n",
       "      <td>Ethereum</td>\n",
       "      <td>ETH</td>\n",
       "      <td>2744.410000</td>\n",
       "      <td>0.024</td>\n",
       "      <td>0.034</td>\n",
       "      <td>0.065</td>\n",
       "      <td>1.974870e+10</td>\n",
       "      <td>3.271044e+11</td>\n",
       "      <td>2022-03-16</td>\n",
       "    </tr>\n",
       "    <tr>\n",
       "      <th>2</th>\n",
       "      <td>Tether</td>\n",
       "      <td>USDT</td>\n",
       "      <td>1.000000</td>\n",
       "      <td>-0.001</td>\n",
       "      <td>-0.001</td>\n",
       "      <td>0.000</td>\n",
       "      <td>5.793497e+10</td>\n",
       "      <td>7.996516e+10</td>\n",
       "      <td>2022-03-16</td>\n",
       "    </tr>\n",
       "    <tr>\n",
       "      <th>3</th>\n",
       "      <td>BNB</td>\n",
       "      <td>BNB</td>\n",
       "      <td>383.430000</td>\n",
       "      <td>0.018</td>\n",
       "      <td>0.028</td>\n",
       "      <td>0.004</td>\n",
       "      <td>1.395854e+09</td>\n",
       "      <td>6.404382e+10</td>\n",
       "      <td>2022-03-16</td>\n",
       "    </tr>\n",
       "    <tr>\n",
       "      <th>4</th>\n",
       "      <td>USD Coin</td>\n",
       "      <td>USDC</td>\n",
       "      <td>0.999874</td>\n",
       "      <td>-0.001</td>\n",
       "      <td>0.000</td>\n",
       "      <td>-0.000</td>\n",
       "      <td>3.872274e+09</td>\n",
       "      <td>5.222214e+10</td>\n",
       "      <td>2022-03-16</td>\n",
       "    </tr>\n",
       "  </tbody>\n",
       "</table>\n",
       "</div>"
      ],
      "text/plain": [
       "       coin symbol         price     1h    24h     7d    24h_volume  \\\n",
       "0   Bitcoin    BTC  40859.460000  0.022  0.030  0.055  3.539076e+10   \n",
       "1  Ethereum    ETH   2744.410000  0.024  0.034  0.065  1.974870e+10   \n",
       "2    Tether   USDT      1.000000 -0.001 -0.001  0.000  5.793497e+10   \n",
       "3       BNB    BNB    383.430000  0.018  0.028  0.004  1.395854e+09   \n",
       "4  USD Coin   USDC      0.999874 -0.001  0.000 -0.000  3.872274e+09   \n",
       "\n",
       "        mkt_cap        date  \n",
       "0  7.709915e+11  2022-03-16  \n",
       "1  3.271044e+11  2022-03-16  \n",
       "2  7.996516e+10  2022-03-16  \n",
       "3  6.404382e+10  2022-03-16  \n",
       "4  5.222214e+10  2022-03-16  "
      ]
     },
     "execution_count": 8,
     "metadata": {},
     "output_type": "execute_result"
    }
   ],
   "source": [
    "# there are two datasets provided to us\n",
    "# loading dataset 1: \n",
    "df1 = pd.read_csv('../data/coin_gecko_2022-03-16.csv')\n",
    "df1.head()"
   ]
  },
  {
   "cell_type": "code",
   "execution_count": 9,
   "id": "53ffb0c0",
   "metadata": {},
   "outputs": [
    {
     "data": {
      "text/html": [
       "<div>\n",
       "<style scoped>\n",
       "    .dataframe tbody tr th:only-of-type {\n",
       "        vertical-align: middle;\n",
       "    }\n",
       "\n",
       "    .dataframe tbody tr th {\n",
       "        vertical-align: top;\n",
       "    }\n",
       "\n",
       "    .dataframe thead th {\n",
       "        text-align: right;\n",
       "    }\n",
       "</style>\n",
       "<table border=\"1\" class=\"dataframe\">\n",
       "  <thead>\n",
       "    <tr style=\"text-align: right;\">\n",
       "      <th></th>\n",
       "      <th>coin</th>\n",
       "      <th>symbol</th>\n",
       "      <th>price</th>\n",
       "      <th>1h</th>\n",
       "      <th>24h</th>\n",
       "      <th>7d</th>\n",
       "      <th>24h_volume</th>\n",
       "      <th>mkt_cap</th>\n",
       "      <th>date</th>\n",
       "    </tr>\n",
       "  </thead>\n",
       "  <tbody>\n",
       "    <tr>\n",
       "      <th>0</th>\n",
       "      <td>Bitcoin</td>\n",
       "      <td>BTC</td>\n",
       "      <td>40851.380000</td>\n",
       "      <td>0.001</td>\n",
       "      <td>0.000</td>\n",
       "      <td>-0.027</td>\n",
       "      <td>2.047612e+10</td>\n",
       "      <td>7.760774e+11</td>\n",
       "      <td>2022-03-17</td>\n",
       "    </tr>\n",
       "    <tr>\n",
       "      <th>1</th>\n",
       "      <td>Ethereum</td>\n",
       "      <td>ETH</td>\n",
       "      <td>2824.420000</td>\n",
       "      <td>0.004</td>\n",
       "      <td>0.029</td>\n",
       "      <td>0.034</td>\n",
       "      <td>1.364041e+10</td>\n",
       "      <td>3.390772e+11</td>\n",
       "      <td>2022-03-17</td>\n",
       "    </tr>\n",
       "    <tr>\n",
       "      <th>2</th>\n",
       "      <td>Tether</td>\n",
       "      <td>USDT</td>\n",
       "      <td>1.000000</td>\n",
       "      <td>-0.000</td>\n",
       "      <td>0.000</td>\n",
       "      <td>0.000</td>\n",
       "      <td>4.413140e+10</td>\n",
       "      <td>8.020588e+10</td>\n",
       "      <td>2022-03-17</td>\n",
       "    </tr>\n",
       "    <tr>\n",
       "      <th>3</th>\n",
       "      <td>BNB</td>\n",
       "      <td>BNB</td>\n",
       "      <td>389.610000</td>\n",
       "      <td>0.002</td>\n",
       "      <td>0.016</td>\n",
       "      <td>-0.010</td>\n",
       "      <td>1.425354e+09</td>\n",
       "      <td>6.556116e+10</td>\n",
       "      <td>2022-03-17</td>\n",
       "    </tr>\n",
       "    <tr>\n",
       "      <th>4</th>\n",
       "      <td>USD Coin</td>\n",
       "      <td>USDC</td>\n",
       "      <td>0.999739</td>\n",
       "      <td>-0.001</td>\n",
       "      <td>0.000</td>\n",
       "      <td>-0.000</td>\n",
       "      <td>3.569816e+09</td>\n",
       "      <td>5.259607e+10</td>\n",
       "      <td>2022-03-17</td>\n",
       "    </tr>\n",
       "  </tbody>\n",
       "</table>\n",
       "</div>"
      ],
      "text/plain": [
       "       coin symbol         price     1h    24h     7d    24h_volume  \\\n",
       "0   Bitcoin    BTC  40851.380000  0.001  0.000 -0.027  2.047612e+10   \n",
       "1  Ethereum    ETH   2824.420000  0.004  0.029  0.034  1.364041e+10   \n",
       "2    Tether   USDT      1.000000 -0.000  0.000  0.000  4.413140e+10   \n",
       "3       BNB    BNB    389.610000  0.002  0.016 -0.010  1.425354e+09   \n",
       "4  USD Coin   USDC      0.999739 -0.001  0.000 -0.000  3.569816e+09   \n",
       "\n",
       "        mkt_cap        date  \n",
       "0  7.760774e+11  2022-03-17  \n",
       "1  3.390772e+11  2022-03-17  \n",
       "2  8.020588e+10  2022-03-17  \n",
       "3  6.556116e+10  2022-03-17  \n",
       "4  5.259607e+10  2022-03-17  "
      ]
     },
     "execution_count": 9,
     "metadata": {},
     "output_type": "execute_result"
    }
   ],
   "source": [
    "df2 = pd.read_csv('../data/coin_gecko_2022-03-17.csv')\n",
    "df2.head()"
   ]
  },
  {
   "cell_type": "code",
   "execution_count": 10,
   "id": "b649fd38",
   "metadata": {},
   "outputs": [
    {
     "data": {
      "text/plain": [
       "(1000, 9)"
      ]
     },
     "execution_count": 10,
     "metadata": {},
     "output_type": "execute_result"
    }
   ],
   "source": [
    "# We can merge these two datasets:\n",
    "df = pd.concat([df1, df2], ignore_index=True)\n",
    "df.shape"
   ]
  },
  {
   "cell_type": "markdown",
   "id": "8558d78c",
   "metadata": {},
   "source": [
    "### 3. Handling Null values"
   ]
  },
  {
   "cell_type": "code",
   "execution_count": 11,
   "id": "908a17c8",
   "metadata": {},
   "outputs": [
    {
     "data": {
      "text/plain": [
       "coin          0\n",
       "symbol        0\n",
       "price         0\n",
       "1h            7\n",
       "24h           7\n",
       "7d            8\n",
       "24h_volume    7\n",
       "mkt_cap       0\n",
       "date          0\n",
       "dtype: int64"
      ]
     },
     "execution_count": 11,
     "metadata": {},
     "output_type": "execute_result"
    }
   ],
   "source": [
    "df.isnull().sum()"
   ]
  },
  {
   "cell_type": "code",
   "execution_count": 14,
   "id": "4d9eb100",
   "metadata": {},
   "outputs": [
    {
     "data": {
      "text/plain": [
       "coin          0\n",
       "symbol        0\n",
       "price         0\n",
       "1h            0\n",
       "24h           0\n",
       "7d            0\n",
       "24h_volume    0\n",
       "mkt_cap       0\n",
       "date          0\n",
       "dtype: int64"
      ]
     },
     "execution_count": 14,
     "metadata": {},
     "output_type": "execute_result"
    }
   ],
   "source": [
    "# We can fill null values with the mode of the column\n",
    "df['1h'].fillna(df['1h'].mode()[0], inplace=True)\n",
    "df['24h'].fillna(df['24h'].mode()[0], inplace=True)\n",
    "df['7d'].fillna(df['7d'].mode()[0], inplace=True)\n",
    "df['24h_volume'].fillna(df['24h_volume'].mode()[0], inplace=True)\n",
    "df.isnull().sum()"
   ]
  },
  {
   "cell_type": "code",
   "execution_count": 15,
   "id": "effbd6da",
   "metadata": {},
   "outputs": [
    {
     "data": {
      "text/html": [
       "<div>\n",
       "<style scoped>\n",
       "    .dataframe tbody tr th:only-of-type {\n",
       "        vertical-align: middle;\n",
       "    }\n",
       "\n",
       "    .dataframe tbody tr th {\n",
       "        vertical-align: top;\n",
       "    }\n",
       "\n",
       "    .dataframe thead th {\n",
       "        text-align: right;\n",
       "    }\n",
       "</style>\n",
       "<table border=\"1\" class=\"dataframe\">\n",
       "  <thead>\n",
       "    <tr style=\"text-align: right;\">\n",
       "      <th></th>\n",
       "      <th>coin</th>\n",
       "      <th>symbol</th>\n",
       "      <th>price</th>\n",
       "      <th>1h</th>\n",
       "      <th>24h</th>\n",
       "      <th>7d</th>\n",
       "      <th>24h_volume</th>\n",
       "      <th>mkt_cap</th>\n",
       "      <th>date</th>\n",
       "    </tr>\n",
       "  </thead>\n",
       "  <tbody>\n",
       "    <tr>\n",
       "      <th>0</th>\n",
       "      <td>Bitcoin</td>\n",
       "      <td>BTC</td>\n",
       "      <td>40859.460000</td>\n",
       "      <td>0.022</td>\n",
       "      <td>0.030</td>\n",
       "      <td>0.055</td>\n",
       "      <td>3.539076e+10</td>\n",
       "      <td>7.709915e+11</td>\n",
       "      <td>2022-03-16</td>\n",
       "    </tr>\n",
       "    <tr>\n",
       "      <th>1</th>\n",
       "      <td>Ethereum</td>\n",
       "      <td>ETH</td>\n",
       "      <td>2744.410000</td>\n",
       "      <td>0.024</td>\n",
       "      <td>0.034</td>\n",
       "      <td>0.065</td>\n",
       "      <td>1.974870e+10</td>\n",
       "      <td>3.271044e+11</td>\n",
       "      <td>2022-03-16</td>\n",
       "    </tr>\n",
       "    <tr>\n",
       "      <th>2</th>\n",
       "      <td>Tether</td>\n",
       "      <td>USDT</td>\n",
       "      <td>1.000000</td>\n",
       "      <td>-0.001</td>\n",
       "      <td>-0.001</td>\n",
       "      <td>0.000</td>\n",
       "      <td>5.793497e+10</td>\n",
       "      <td>7.996516e+10</td>\n",
       "      <td>2022-03-16</td>\n",
       "    </tr>\n",
       "    <tr>\n",
       "      <th>3</th>\n",
       "      <td>BNB</td>\n",
       "      <td>BNB</td>\n",
       "      <td>383.430000</td>\n",
       "      <td>0.018</td>\n",
       "      <td>0.028</td>\n",
       "      <td>0.004</td>\n",
       "      <td>1.395854e+09</td>\n",
       "      <td>6.404382e+10</td>\n",
       "      <td>2022-03-16</td>\n",
       "    </tr>\n",
       "    <tr>\n",
       "      <th>4</th>\n",
       "      <td>USD Coin</td>\n",
       "      <td>USDC</td>\n",
       "      <td>0.999874</td>\n",
       "      <td>-0.001</td>\n",
       "      <td>0.000</td>\n",
       "      <td>-0.000</td>\n",
       "      <td>3.872274e+09</td>\n",
       "      <td>5.222214e+10</td>\n",
       "      <td>2022-03-16</td>\n",
       "    </tr>\n",
       "  </tbody>\n",
       "</table>\n",
       "</div>"
      ],
      "text/plain": [
       "       coin symbol         price     1h    24h     7d    24h_volume  \\\n",
       "0   Bitcoin    BTC  40859.460000  0.022  0.030  0.055  3.539076e+10   \n",
       "1  Ethereum    ETH   2744.410000  0.024  0.034  0.065  1.974870e+10   \n",
       "2    Tether   USDT      1.000000 -0.001 -0.001  0.000  5.793497e+10   \n",
       "3       BNB    BNB    383.430000  0.018  0.028  0.004  1.395854e+09   \n",
       "4  USD Coin   USDC      0.999874 -0.001  0.000 -0.000  3.872274e+09   \n",
       "\n",
       "        mkt_cap        date  \n",
       "0  7.709915e+11  2022-03-16  \n",
       "1  3.271044e+11  2022-03-16  \n",
       "2  7.996516e+10  2022-03-16  \n",
       "3  6.404382e+10  2022-03-16  \n",
       "4  5.222214e+10  2022-03-16  "
      ]
     },
     "execution_count": 15,
     "metadata": {},
     "output_type": "execute_result"
    }
   ],
   "source": [
    "df.head()"
   ]
  },
  {
   "cell_type": "code",
   "execution_count": 16,
   "id": "799c449a",
   "metadata": {},
   "outputs": [
    {
     "data": {
      "text/html": [
       "<div>\n",
       "<style scoped>\n",
       "    .dataframe tbody tr th:only-of-type {\n",
       "        vertical-align: middle;\n",
       "    }\n",
       "\n",
       "    .dataframe tbody tr th {\n",
       "        vertical-align: top;\n",
       "    }\n",
       "\n",
       "    .dataframe thead th {\n",
       "        text-align: right;\n",
       "    }\n",
       "</style>\n",
       "<table border=\"1\" class=\"dataframe\">\n",
       "  <thead>\n",
       "    <tr style=\"text-align: right;\">\n",
       "      <th></th>\n",
       "      <th>price</th>\n",
       "      <th>1h</th>\n",
       "      <th>24h</th>\n",
       "      <th>7d</th>\n",
       "      <th>24h_volume</th>\n",
       "      <th>mkt_cap</th>\n",
       "    </tr>\n",
       "  </thead>\n",
       "  <tbody>\n",
       "    <tr>\n",
       "      <th>count</th>\n",
       "      <td>1.000000e+03</td>\n",
       "      <td>1000.000000</td>\n",
       "      <td>1000.000000</td>\n",
       "      <td>1000.000000</td>\n",
       "      <td>1.000000e+03</td>\n",
       "      <td>1.000000e+03</td>\n",
       "    </tr>\n",
       "    <tr>\n",
       "      <th>mean</th>\n",
       "      <td>6.561060e+02</td>\n",
       "      <td>0.009662</td>\n",
       "      <td>0.023571</td>\n",
       "      <td>0.023370</td>\n",
       "      <td>2.872914e+08</td>\n",
       "      <td>3.755304e+09</td>\n",
       "    </tr>\n",
       "    <tr>\n",
       "      <th>std</th>\n",
       "      <td>4.584655e+03</td>\n",
       "      <td>0.026850</td>\n",
       "      <td>0.059128</td>\n",
       "      <td>0.228869</td>\n",
       "      <td>2.760291e+09</td>\n",
       "      <td>3.803783e+10</td>\n",
       "    </tr>\n",
       "    <tr>\n",
       "      <th>min</th>\n",
       "      <td>1.484000e-09</td>\n",
       "      <td>-0.704000</td>\n",
       "      <td>-0.646000</td>\n",
       "      <td>-0.558000</td>\n",
       "      <td>0.000000e+00</td>\n",
       "      <td>6.577043e+07</td>\n",
       "    </tr>\n",
       "    <tr>\n",
       "      <th>25%</th>\n",
       "      <td>1.940547e-01</td>\n",
       "      <td>0.001000</td>\n",
       "      <td>0.001000</td>\n",
       "      <td>-0.040250</td>\n",
       "      <td>1.695034e+06</td>\n",
       "      <td>1.157776e+08</td>\n",
       "    </tr>\n",
       "    <tr>\n",
       "      <th>50%</th>\n",
       "      <td>1.095000e+00</td>\n",
       "      <td>0.006000</td>\n",
       "      <td>0.015000</td>\n",
       "      <td>0.000000</td>\n",
       "      <td>8.232836e+06</td>\n",
       "      <td>2.120036e+08</td>\n",
       "    </tr>\n",
       "    <tr>\n",
       "      <th>75%</th>\n",
       "      <td>7.232500e+00</td>\n",
       "      <td>0.019000</td>\n",
       "      <td>0.035000</td>\n",
       "      <td>0.036000</td>\n",
       "      <td>3.923430e+07</td>\n",
       "      <td>5.948436e+08</td>\n",
       "    </tr>\n",
       "    <tr>\n",
       "      <th>max</th>\n",
       "      <td>4.121727e+04</td>\n",
       "      <td>0.095000</td>\n",
       "      <td>0.577000</td>\n",
       "      <td>4.608000</td>\n",
       "      <td>5.793497e+10</td>\n",
       "      <td>7.760774e+11</td>\n",
       "    </tr>\n",
       "  </tbody>\n",
       "</table>\n",
       "</div>"
      ],
      "text/plain": [
       "              price           1h          24h           7d    24h_volume  \\\n",
       "count  1.000000e+03  1000.000000  1000.000000  1000.000000  1.000000e+03   \n",
       "mean   6.561060e+02     0.009662     0.023571     0.023370  2.872914e+08   \n",
       "std    4.584655e+03     0.026850     0.059128     0.228869  2.760291e+09   \n",
       "min    1.484000e-09    -0.704000    -0.646000    -0.558000  0.000000e+00   \n",
       "25%    1.940547e-01     0.001000     0.001000    -0.040250  1.695034e+06   \n",
       "50%    1.095000e+00     0.006000     0.015000     0.000000  8.232836e+06   \n",
       "75%    7.232500e+00     0.019000     0.035000     0.036000  3.923430e+07   \n",
       "max    4.121727e+04     0.095000     0.577000     4.608000  5.793497e+10   \n",
       "\n",
       "            mkt_cap  \n",
       "count  1.000000e+03  \n",
       "mean   3.755304e+09  \n",
       "std    3.803783e+10  \n",
       "min    6.577043e+07  \n",
       "25%    1.157776e+08  \n",
       "50%    2.120036e+08  \n",
       "75%    5.948436e+08  \n",
       "max    7.760774e+11  "
      ]
     },
     "execution_count": 16,
     "metadata": {},
     "output_type": "execute_result"
    }
   ],
   "source": [
    "df.describe()\n"
   ]
  },
  {
   "cell_type": "code",
   "execution_count": 22,
   "id": "9069ef13",
   "metadata": {},
   "outputs": [
    {
     "data": {
      "text/plain": [
       "506"
      ]
     },
     "execution_count": 22,
     "metadata": {},
     "output_type": "execute_result"
    }
   ],
   "source": [
    "df.coin.nunique()\n",
    "# there are 506 unique coins in the data set"
   ]
  },
  {
   "cell_type": "code",
   "execution_count": 25,
   "id": "d48c08ed",
   "metadata": {},
   "outputs": [
    {
     "name": "stdout",
     "output_type": "stream",
     "text": [
      "<class 'pandas.core.frame.DataFrame'>\n",
      "RangeIndex: 1000 entries, 0 to 999\n",
      "Data columns (total 9 columns):\n",
      " #   Column      Non-Null Count  Dtype         \n",
      "---  ------      --------------  -----         \n",
      " 0   coin        1000 non-null   object        \n",
      " 1   symbol      1000 non-null   object        \n",
      " 2   price       1000 non-null   float64       \n",
      " 3   1h          1000 non-null   float64       \n",
      " 4   24h         1000 non-null   float64       \n",
      " 5   7d          1000 non-null   float64       \n",
      " 6   24h_volume  1000 non-null   float64       \n",
      " 7   mkt_cap     1000 non-null   float64       \n",
      " 8   date        1000 non-null   datetime64[ns]\n",
      "dtypes: datetime64[ns](1), float64(6), object(2)\n",
      "memory usage: 70.4+ KB\n"
     ]
    }
   ],
   "source": [
    "### Converting 'date' column to datetime format\n",
    "df['date'] = pd.to_datetime(df['date'], format='%Y-%m-%d')\n",
    "df.info()"
   ]
  },
  {
   "cell_type": "code",
   "execution_count": 30,
   "id": "4411a2ad",
   "metadata": {},
   "outputs": [
    {
     "name": "stdout",
     "output_type": "stream",
     "text": [
      "Numerical Features: ['price', '1h', '24h', '7d', '24h_volume', 'mkt_cap', 'date']\n"
     ]
    }
   ],
   "source": [
    "num_features = df.columns[df.dtypes != 'object']\n",
    "print(\"Numerical Features:\", num_features.tolist())"
   ]
  },
  {
   "cell_type": "code",
   "execution_count": 32,
   "id": "708728ec",
   "metadata": {},
   "outputs": [
    {
     "data": {
      "text/html": [
       "<div>\n",
       "<style scoped>\n",
       "    .dataframe tbody tr th:only-of-type {\n",
       "        vertical-align: middle;\n",
       "    }\n",
       "\n",
       "    .dataframe tbody tr th {\n",
       "        vertical-align: top;\n",
       "    }\n",
       "\n",
       "    .dataframe thead th {\n",
       "        text-align: right;\n",
       "    }\n",
       "</style>\n",
       "<table border=\"1\" class=\"dataframe\">\n",
       "  <thead>\n",
       "    <tr style=\"text-align: right;\">\n",
       "      <th></th>\n",
       "      <th>price</th>\n",
       "      <th>1h</th>\n",
       "      <th>24h</th>\n",
       "      <th>7d</th>\n",
       "      <th>24h_volume</th>\n",
       "      <th>mkt_cap</th>\n",
       "      <th>date</th>\n",
       "    </tr>\n",
       "  </thead>\n",
       "  <tbody>\n",
       "    <tr>\n",
       "      <th>price</th>\n",
       "      <td>1.000000</td>\n",
       "      <td>-0.000824</td>\n",
       "      <td>-0.008429</td>\n",
       "      <td>0.015376</td>\n",
       "      <td>0.175960</td>\n",
       "      <td>0.366709</td>\n",
       "      <td>0.000725</td>\n",
       "    </tr>\n",
       "    <tr>\n",
       "      <th>1h</th>\n",
       "      <td>-0.000824</td>\n",
       "      <td>1.000000</td>\n",
       "      <td>0.437391</td>\n",
       "      <td>0.132215</td>\n",
       "      <td>-0.006182</td>\n",
       "      <td>0.004096</td>\n",
       "      <td>-0.334548</td>\n",
       "    </tr>\n",
       "    <tr>\n",
       "      <th>24h</th>\n",
       "      <td>-0.008429</td>\n",
       "      <td>0.437391</td>\n",
       "      <td>1.000000</td>\n",
       "      <td>0.474862</td>\n",
       "      <td>-0.009031</td>\n",
       "      <td>-0.007568</td>\n",
       "      <td>-0.086381</td>\n",
       "    </tr>\n",
       "    <tr>\n",
       "      <th>7d</th>\n",
       "      <td>0.015376</td>\n",
       "      <td>0.132215</td>\n",
       "      <td>0.474862</td>\n",
       "      <td>1.000000</td>\n",
       "      <td>0.015607</td>\n",
       "      <td>-0.001049</td>\n",
       "      <td>-0.067374</td>\n",
       "    </tr>\n",
       "    <tr>\n",
       "      <th>24h_volume</th>\n",
       "      <td>0.175960</td>\n",
       "      <td>-0.006182</td>\n",
       "      <td>-0.009031</td>\n",
       "      <td>0.015607</td>\n",
       "      <td>1.000000</td>\n",
       "      <td>0.599806</td>\n",
       "      <td>-0.013923</td>\n",
       "    </tr>\n",
       "    <tr>\n",
       "      <th>mkt_cap</th>\n",
       "      <td>0.366709</td>\n",
       "      <td>0.004096</td>\n",
       "      <td>-0.007568</td>\n",
       "      <td>-0.001049</td>\n",
       "      <td>0.599806</td>\n",
       "      <td>1.000000</td>\n",
       "      <td>0.000858</td>\n",
       "    </tr>\n",
       "    <tr>\n",
       "      <th>date</th>\n",
       "      <td>0.000725</td>\n",
       "      <td>-0.334548</td>\n",
       "      <td>-0.086381</td>\n",
       "      <td>-0.067374</td>\n",
       "      <td>-0.013923</td>\n",
       "      <td>0.000858</td>\n",
       "      <td>1.000000</td>\n",
       "    </tr>\n",
       "  </tbody>\n",
       "</table>\n",
       "</div>"
      ],
      "text/plain": [
       "               price        1h       24h        7d  24h_volume   mkt_cap  \\\n",
       "price       1.000000 -0.000824 -0.008429  0.015376    0.175960  0.366709   \n",
       "1h         -0.000824  1.000000  0.437391  0.132215   -0.006182  0.004096   \n",
       "24h        -0.008429  0.437391  1.000000  0.474862   -0.009031 -0.007568   \n",
       "7d          0.015376  0.132215  0.474862  1.000000    0.015607 -0.001049   \n",
       "24h_volume  0.175960 -0.006182 -0.009031  0.015607    1.000000  0.599806   \n",
       "mkt_cap     0.366709  0.004096 -0.007568 -0.001049    0.599806  1.000000   \n",
       "date        0.000725 -0.334548 -0.086381 -0.067374   -0.013923  0.000858   \n",
       "\n",
       "                date  \n",
       "price       0.000725  \n",
       "1h         -0.334548  \n",
       "24h        -0.086381  \n",
       "7d         -0.067374  \n",
       "24h_volume -0.013923  \n",
       "mkt_cap     0.000858  \n",
       "date        1.000000  "
      ]
     },
     "execution_count": 32,
     "metadata": {},
     "output_type": "execute_result"
    }
   ],
   "source": [
    "df[num_features].corr()"
   ]
  },
  {
   "cell_type": "markdown",
   "id": "c7bd5ea6",
   "metadata": {},
   "source": [
    "📊 Key insights from the correlations:\n",
    "✅ 1️⃣ Price is moderately correlated with market cap (≈ 0.36)\n",
    "\n",
    "This makes sense: higher price generally means higher market cap, but it’s not perfectly correlated because market cap = price × circulating supply.\n",
    "\n",
    "So circulating supply varies across coins.\n",
    "\n",
    "✅ 2️⃣ Price has small positive correlation with 24h_volume (≈ 0.17)\n",
    "\n",
    "Coins with higher prices slightly tend to have higher trading volume.\n",
    "\n",
    "But the relationship isn’t very strong → some high-priced coins might still have low trading activity.\n",
    "\n",
    "✅ 3️⃣ Market cap and 24h_volume are strongly correlated (≈ 0.59)\n",
    "\n",
    "Coins with higher market caps generally have higher trading volume.\n",
    "\n",
    "This shows liquidity: popular large-cap coins are traded more actively.\n",
    "\n",
    "✅ 4️⃣ 24h and 7d changes are moderately correlated (≈ 0.47)\n",
    "\n",
    "Coins that increased/decreased over 24h often continued in the same trend over 7 days.\n",
    "\n",
    "Suggests some momentum effect over short-to-mid term.\n",
    "\n",
    "✅ 5️⃣ 1h change doesn’t correlate much with anything else\n",
    "\n",
    "Correlation with price, volume, market cap, and longer-term changes is close to zero.\n",
    "\n",
    "Indicates that short-term hourly volatility is mostly random / noise.\n",
    "\n",
    "✅ 6️⃣ Date shows small negative correlation with 1h (-0.33) and very weak with others\n",
    "\n",
    "Possibly because dataset is sorted over time, and certain patterns in hourly change appeared at certain dates.\n",
    "\n",
    "But since date correlation is weak, time trend effect isn’t strong overall.\n",
    "\n",
    "⚡ Overall summary:\n",
    "Larger market cap coins tend to have higher trading volume.\n",
    "\n",
    "Price itself isn’t strongly tied to volume or volatility over short time frames.\n",
    "\n",
    "Momentum effect exists: 24h and 7d price changes move together.\n",
    "\n",
    "Short-term (1h) movements are mostly independent and noisy."
   ]
  },
  {
   "cell_type": "code",
   "execution_count": 33,
   "id": "0cc16768",
   "metadata": {},
   "outputs": [
    {
     "data": {
      "text/plain": [
       "<Axes: >"
      ]
     },
     "execution_count": 33,
     "metadata": {},
     "output_type": "execute_result"
    },
    {
     "data": {
      "image/png": "[encoded data removed]",
      "text/plain": [
       "<Figure size 640x480 with 2 Axes>"
      ]
     },
     "metadata": {},
     "output_type": "display_data"
    }
   ],
   "source": [
    "sns.heatmap(df[num_features].corr(), annot=True, cmap='coolwarm', fmt='.2f')"
   ]
  },
  {
   "cell_type": "code",
   "execution_count": 34,
   "id": "50921dbf",
   "metadata": {},
   "outputs": [
    {
     "name": "stdout",
     "output_type": "stream",
     "text": [
      "<class 'pandas.core.frame.DataFrame'>\n",
      "RangeIndex: 1000 entries, 0 to 999\n",
      "Data columns (total 9 columns):\n",
      " #   Column      Non-Null Count  Dtype         \n",
      "---  ------      --------------  -----         \n",
      " 0   coin        1000 non-null   object        \n",
      " 1   symbol      1000 non-null   object        \n",
      " 2   price       1000 non-null   float64       \n",
      " 3   1h          1000 non-null   float64       \n",
      " 4   24h         1000 non-null   float64       \n",
      " 5   7d          1000 non-null   float64       \n",
      " 6   24h_volume  1000 non-null   float64       \n",
      " 7   mkt_cap     1000 non-null   float64       \n",
      " 8   date        1000 non-null   datetime64[ns]\n",
      "dtypes: datetime64[ns](1), float64(6), object(2)\n",
      "memory usage: 70.4+ KB\n"
     ]
    }
   ],
   "source": [
    "df.info()"
   ]
  },
  {
   "cell_type": "code",
   "execution_count": 46,
   "id": "78726302",
   "metadata": {},
   "outputs": [
    {
     "data": {
      "text/plain": [
       "<Axes: xlabel='date'>"
      ]
     },
     "execution_count": 46,
     "metadata": {},
     "output_type": "execute_result"
    },
    {
     "data": {
      "image/png": "[encoded data removed]",
      "text/plain": [
       "<Figure size 1200x600 with 1 Axes>"
      ]
     },
     "metadata": {},
     "output_type": "display_data"
    }
   ],
   "source": [
    "df.sort_values('date', inplace=True)\n",
    "\n",
    "df.set_index('date')['24h_volume'].plot(figsize=(12,6))"
   ]
  },
  {
   "cell_type": "code",
   "execution_count": 47,
   "id": "0b8dd18e",
   "metadata": {},
   "outputs": [
    {
     "data": {
      "text/plain": [
       "<Axes: xlabel='mkt_cap', ylabel='24h_volume'>"
      ]
     },
     "execution_count": 47,
     "metadata": {},
     "output_type": "execute_result"
    },
    {
     "data": {
      "image/png": "[encoded data removed]",
      "text/plain": [
       "<Figure size 640x480 with 1 Axes>"
      ]
     },
     "metadata": {},
     "output_type": "display_data"
    }
   ],
   "source": [
    "import seaborn as sns\n",
    "sns.scatterplot(x='mkt_cap', y='24h_volume', data=df)\n"
   ]
  },
  {
   "cell_type": "code",
   "execution_count": 48,
   "id": "bbcbdd6c",
   "metadata": {},
   "outputs": [
    {
     "data": {
      "text/plain": [
       "<Axes: xlabel='mkt_cap', ylabel='24h_volume'>"
      ]
     },
     "execution_count": 48,
     "metadata": {},
     "output_type": "execute_result"
    },
    {
     "data": {
      "image/png": "[encoded data removed]",
      "text/plain": [
       "<Figure size 640x480 with 1 Axes>"
      ]
     },
     "metadata": {},
     "output_type": "display_data"
    }
   ],
   "source": [
    "sns.scatterplot(x=np.log1p(df['mkt_cap']), y=np.log1p(df['24h_volume']))\n"
   ]
  },
  {
   "cell_type": "code",
   "execution_count": 52,
   "id": "6e182e6c",
   "metadata": {},
   "outputs": [
    {
     "data": {
      "text/plain": [
       "<Axes: xlabel='24h_volume', ylabel='1h'>"
      ]
     },
     "execution_count": 52,
     "metadata": {},
     "output_type": "execute_result"
    },
    {
     "data": {
      "image/png": "[encoded data removed]",
      "text/plain": [
       "<Figure size 640x480 with 1 Axes>"
      ]
     },
     "metadata": {},
     "output_type": "display_data"
    }
   ],
   "source": [
    "sns.scatterplot(x=df['24h_volume'],y=df['1h'])"
   ]
  },
  {
   "cell_type": "code",
   "execution_count": null,
   "id": "5015c5f1",
   "metadata": {},
   "outputs": [
    {
     "data": {
      "text/plain": [
       "<Axes: xlabel='date', ylabel='24h_volume'>"
      ]
     },
     "execution_count": 54,
     "metadata": {},
     "output_type": "execute_result"
    },
    {
     "data": {
      "image/png": "[encoded data removed]",
      "text/plain": [
       "<Figure size 640x480 with 1 Axes>"
      ]
     },
     "metadata": {},
     "output_type": "display_data"
    }
   ],
   "source": [
    "sns.boxplot(x='date', y='24h_volume', data=df)"
   ]
  },
  {
   "cell_type": "code",
   "execution_count": 61,
   "id": "3a16e891",
   "metadata": {},
   "outputs": [
    {
     "name": "stdout",
     "output_type": "stream",
     "text": [
      "Outliers: \n",
      "                              coin    24h_volume\n",
      "0                         Bitcoin  3.539076e+10\n",
      "335                  Polkastarter  2.001325e+08\n",
      "268  Kyber Network Crystal Legacy  1.913018e+08\n",
      "254               Origin Protocol  1.824785e+08\n",
      "396             My Neighbor Alice  9.930001e+07\n",
      "..                            ...           ...\n",
      "693               ConstitutionDAO  1.489658e+08\n",
      "692                     FLEX Coin  1.321112e+09\n",
      "684                          Nano  2.726332e+08\n",
      "655                         STEPN  1.358531e+09\n",
      "676         Ethereum Name Service  1.308025e+08\n",
      "\n",
      "[147 rows x 2 columns]\n",
      "Number of outliers: 147\n",
      "83\n"
     ]
    }
   ],
   "source": [
    "# Calculate Q1 and Q3\n",
    "Q1 = df['24h_volume'].quantile(0.25)\n",
    "Q3 = df['24h_volume'].quantile(0.75)\n",
    "\n",
    "# IQR\n",
    "IQR = Q3 - Q1\n",
    "\n",
    "# Define lower & upper bounds\n",
    "lower_bound = Q1 - 1.5 * IQR\n",
    "upper_bound = Q3 + 1.5 * IQR\n",
    "\n",
    "# Find outliers\n",
    "outliers = df[df['24h_volume'] > upper_bound]\n",
    "print(\"Outliers: \\n\", outliers[['coin', '24h_volume']])\n",
    "print(\"Number of outliers:\", len(outliers))\n",
    "print(outliers['coin'].nunique())\n"
   ]
  },
  {
   "cell_type": "markdown",
   "id": "f17d7e12",
   "metadata": {},
   "source": [
    "✅ Insights:\n",
    "1️⃣ Liquidity is highly concentrated\n",
    "A relatively small number of coins (≈ 83 unique coins) dominate the trading volume.\n",
    "\n",
    "These coins have trading activity so high that they are statistical outliers.\n",
    "\n",
    "This is very common in crypto: top coins like Bitcoin, Ethereum, and a few trending coins dominate volume.\n",
    "\n",
    "2️⃣ Different kinds of outliers\n",
    "From your list, you can see:\n",
    "\n",
    "Established coins like Bitcoin (with extremely high volume, e.g., 3.5e10).\n",
    "\n",
    "Mid-tier coins like Kyber Network, Polkastarter, FLEX Coin, etc., that had spikes in trading activity.\n",
    "\n",
    "Some niche or trending coins (e.g., ConstitutionDAO, STEPN) → likely driven by short-term hype or events.\n",
    "\n",
    "This shows that outliers can come from:\n",
    "\n",
    "Fundamentally large coins.\n",
    "\n",
    "Short-lived volume spikes due to news/hype.\n",
    "\n",
    "3️⃣ Heavy-tailed distribution confirmed\n",
    "The fact that you got 147 outliers shows the volume distribution is very skewed:\n",
    "\n",
    "A long tail of coins with low volume.\n",
    "\n",
    "A small group with very high volume."
   ]
  },
  {
   "cell_type": "code",
   "execution_count": null,
   "id": "f71fcf0f",
   "metadata": {},
   "outputs": [],
   "source": []
  }
 ],
 "metadata": {
  "kernelspec": {
   "display_name": "venv",
   "language": "python",
   "name": "python3"
  },
  "language_info": {
   "codemirror_mode": {
    "name": "ipython",
    "version": 3
   },
   "file_extension": ".py",
   "mimetype": "text/x-python",
   "name": "python",
   "nbconvert_exporter": "python",
   "pygments_lexer": "ipython3",
   "version": "3.12.1"
  }
 },
 "nbformat": 4,
 "nbformat_minor": 5
}
